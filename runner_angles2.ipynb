{
 "cells": [
  {
   "cell_type": "code",
   "execution_count": 17,
   "metadata": {},
   "outputs": [],
   "source": [
    "import numpy as np\n",
    "import matplotlib\n",
    "import matplotlib.pyplot as plt"
   ]
  },
  {
   "cell_type": "code",
   "execution_count": 6,
   "metadata": {},
   "outputs": [],
   "source": [
    "# Uses \"runners always bisect rope\" hueristic from\n",
    "#  https://physics.stackexchange.com/questions/666475/final-position-of-weight-hanging-from-two-opposed-pulleys-on-ropes/666519#666519\n",
    "\n",
    "# In trying to find the final position of runners supporting a hanging weight, it was noted that\n",
    "#  as long as the runners aren't slack and as long as their final position does not have them touching,\n",
    "#  they will always bisect the angle in the rope they produce\n",
    "\n",
    "# This script uses that concept to iteratively approximate the final orientations.\n",
    "\n",
    "# After each step, the bisection angles are calculated and the runners all move half-way to the new angle.\n",
    "# After many steps, the runners will approach the correct bisection angles.\n",
    "\n",
    "# Special code was added to handle runners that get stuck against each other. If two runners are detected\n",
    "#  to be crossing, their endpoints are set to the point in space where both are fully extended and touching.\n",
    "\n",
    "# Slack runners isn't appropriately handled and instead slack runners oscillate and never converge.\n",
    "#  Presumably some is_slack[] flag needs to be added and slack runners not processed.\n",
    "\n",
    "# Brian Coventry 2021"
   ]
  },
  {
   "cell_type": "code",
   "execution_count": 46,
   "metadata": {},
   "outputs": [],
   "source": [
    "\n",
    "# Utility functions\n",
    "\n",
    "#https://stackoverflow.com/questions/55816902/finding-the-intersection-of-two-circles\n",
    "def circle_intersections(x0, y0, r0, x1, y1, r1):\n",
    "    # circle 1: (x0, y0), radius r0\n",
    "    # circle 2: (x1, y1), radius r1\n",
    "\n",
    "    d=np.sqrt((x1-x0)**2 + (y1-y0)**2)\n",
    "    \n",
    "    # non intersecting\n",
    "    if d > r0 + r1 :\n",
    "        return None\n",
    "    # One circle within other\n",
    "    if d < abs(r0-r1):\n",
    "        return None\n",
    "    # coincident circles\n",
    "    if d == 0 and r0 == r1:\n",
    "        return None\n",
    "    else:\n",
    "        a=(r0**2-r1**2+d**2)/(2*d)\n",
    "        h=np.sqrt(r0**2-a**2)\n",
    "        x2=x0+a*(x1-x0)/d   \n",
    "        y2=y0+a*(y1-y0)/d   \n",
    "        x3=x2+h*(y1-y0)/d     \n",
    "        y3=y2-h*(x1-x0)/d \n",
    "\n",
    "        x4=x2-h*(y1-y0)/d\n",
    "        y4=y2+h*(x1-x0)/d\n",
    "        \n",
    "        return (x3, y3, x4, y4)\n",
    "\n",
    "    \n",
    "# start1 + slope1 * t1 = start2 + slope2 * t2\n",
    "# where t1 [0, 1] and t2 [0, 1]\n",
    "#\n",
    "# slope1 * t1 - slope2 * t2 = start2 - start1 0\n",
    "# \n",
    "# slope1x * t1 - slope2x * t2 = s1ms2x\n",
    "# slope1y * t1 - slope2y * t2 = s1ms2y\n",
    "#\n",
    "#         A * [t1 t2] = B\n",
    "#  A^-1 * A * [t1 t2] = A^-1 * B\n",
    "def do_lines_cross(start1, end1, start2, end2):\n",
    "    slope1 = end1 - start1\n",
    "    slope2 = end2 - start2\n",
    "    s2ms1 = start2 - start1\n",
    "    \n",
    "    A = np.array([[slope1[0], -slope2[0]],\n",
    "                  [slope1[1], -slope2[1]]])\n",
    "    B = s2ms1\n",
    "    \n",
    "    t_vec = np.linalg.inv(A) @ B\n",
    "    \n",
    "    return (t_vec[0] >= 0) and (t_vec[0] <= 1) and (t_vec[1] >= 0) and (t_vec[1] <= 1)\n",
    "\n",
    "\n",
    "\n",
    "# Like mean() but for angles\n",
    "def bisecting_angle(angle1, angle2):\n",
    "    x1 = np.cos(np.radians(angle1))\n",
    "    x2 = np.cos(np.radians(angle2))\n",
    "    y1 = np.sin(np.radians(angle1))\n",
    "    y2 = np.sin(np.radians(angle2))\n",
    "    \n",
    "    return np.degrees(np.arctan2(y1+y2, x1+x2))\n",
    "\n",
    "# If you move an angle from original to new, this will continue to move\n",
    "#  the angle in the same direction by extra degrees\n",
    "def move_angle_a_little_farther(original, new, extra=0.1):\n",
    "    while (abs(original-new) > 180):\n",
    "        if ( original > new):\n",
    "            original -= 360\n",
    "        else:\n",
    "            original += 360\n",
    "            \n",
    "    sign = np.sign(new-original)\n",
    "    return new + sign * extra\n"
   ]
  },
  {
   "cell_type": "code",
   "execution_count": 52,
   "metadata": {},
   "outputs": [],
   "source": [
    "\n",
    "# Functions\n",
    "\n",
    "# Where is the end of runner i?\n",
    "# No physics here, simply cos() and sin()\n",
    "# -1 and len(anchors) refer to the ends of the rope and match the adjacent ring's x-pos\n",
    "def ring_pos(anchors, lens, angles, i):\n",
    "    if ( i < len(anchors) and i >= 0 ):\n",
    "        anchor = anchors[i]\n",
    "        lenn = lens[i]\n",
    "        angle = angles[i]\n",
    "        return np.array([anchor[0]+lenn*np.cos(np.radians(angle)), \n",
    "                                 anchor[1]+lenn*np.sin(np.radians(angle))])\n",
    "    if ( i == -1 ):\n",
    "        pos0 = ring_pos(anchors, lens, angles, 0)\n",
    "        return np.array([pos0[0], 0])\n",
    "    if ( i == len(anchors) ):\n",
    "        posN = ring_pos(anchors, lens, angles, len(anchors)-1)\n",
    "        return np.array([posN[0], 10])\n",
    "    assert(False)\n",
    "        \n",
    "        \n",
    "# Compute the two points where two runners meet at full extension\n",
    "def runner_intersections(anchor1, anchor2, len1, len2):\n",
    "    assert(np.linalg.norm(anchor1-anchor2) < len1 + len2)\n",
    "    \n",
    "    x1, y1, x2, y2 = circle_intersections(anchor1[0], anchor1[1], len1,\n",
    "                                          anchor2[0], anchor2[1], len2)\n",
    "    \n",
    "    return np.array([(x1, y1), (x2, y2)])\n",
    "\n",
    "\n",
    "# If two adjacent runners are crossing, move them to the nearest point where both are fully extended\n",
    "def uncross_adjacent_runners(anchors, lens, angles):\n",
    "    \n",
    "    for i in range(len(anchors)-1):\n",
    "        anchor1 = anchors[i]\n",
    "        anchor2 = anchors[i+1]\n",
    "        ring1 = ring_pos(anchors, lens, angles, i)\n",
    "        ring2 = ring_pos(anchors, lens, angles, i+1)\n",
    "        \n",
    "        crossed = do_lines_cross(anchor1, ring1, anchor2, ring2)\n",
    "\n",
    "        if ( not crossed ):\n",
    "            continue\n",
    "        \n",
    "        test1, test2 = runner_intersections(anchor1, anchor2, lens[i], lens[i+1])\n",
    "        \n",
    "        d1 = np.linalg.norm(test1-ring1) + np.linalg.norm(test1-ring2)\n",
    "        d2 = np.linalg.norm(test2-ring1) + np.linalg.norm(test2-ring2)\n",
    "        \n",
    "        if ( d1 < d2 ):\n",
    "            cross_point = test1\n",
    "        else:\n",
    "            cross_point = test2\n",
    "            \n",
    "        old_angle_i = angles[i]\n",
    "        old_angle_ip1 = angles[i+1]\n",
    "            \n",
    "        angles[i] = np.degrees(np.arctan2(cross_point[1] - anchor1[1],\n",
    "                                              cross_point[0] - anchor1[0]))\n",
    "        angles[i+1] = np.degrees(np.arctan2(cross_point[1] - anchor2[1], \n",
    "                                                cross_point[0] - anchor2[0]))\n",
    "        \n",
    "        # We gain a little bit of numerical stability if we uncross them a little extra\n",
    "        angles[i] = move_angle_a_little_farther(old_angle_i, angles[i])\n",
    "        angles[i+1] = move_angle_a_little_farther(old_angle_ip1, angles[i+1])\n",
    "        \n",
    "        \n",
    "# Draws the scene and returns the angle the bisects all rope corners.\n",
    "# The bisection angles will point in the direction the runner should point\n",
    "def render_scene(anchors, lens, angles, colors, do_plot):\n",
    "    \n",
    "    bisection_angles = []\n",
    "    \n",
    "    if ( do_plot ):\n",
    "        plt.figure(figsize=(2, 2))\n",
    "        plt.scatter([0, 100], [0, 100], color='white')\n",
    "    \n",
    "    # Rope represents the last position the rope was at\n",
    "    #  Starting point is directly below ring 0\n",
    "    rope = ring_pos(anchors, lens, angles, -1)\n",
    "    last_rope_angle = 90\n",
    "    \n",
    "    for i in range(len(anchors)+1):\n",
    "        \n",
    "        # Get ring position\n",
    "        ring = ring_pos(anchors, lens, angles, i)\n",
    "        # Draw the rope from the last known point to the current ring\n",
    "        if ( do_plot ):\n",
    "            plt.plot([rope[0], ring[0]], [rope[1], ring[1]], 'cyan')\n",
    "            \n",
    "        # Find the new angle and add to the bisection list\n",
    "        rope_angle = np.degrees(np.arctan2(ring[1]-rope[1], ring[0]-rope[0]))\n",
    "        bisection_angles.append(bisecting_angle(last_rope_angle+180, rope_angle))\n",
    "\n",
    "        # Set up for next runner\n",
    "        last_rope_angle = rope_angle\n",
    "        rope = ring\n",
    "        \n",
    "        # plot runner\n",
    "        if ( do_plot and i < len(anchors)):\n",
    "            plt.plot([ring[0], anchors[i][0]], [ring[1], anchors[i][1]], colors[i])\n",
    "        \n",
    "    if ( do_plot ):\n",
    "        plt.xlim((0, 100))\n",
    "        plt.ylim((0, 100))\n",
    "        \n",
    "        rect_size = 8\n",
    "        rsd2 = rect_size/2\n",
    "        rect = matplotlib.patches.Rectangle((rope[0]-rect_size/2, rope[1]-rect_size/2), rect_size, rect_size, \n",
    "                                                                                                facecolor='grey')\n",
    "        plt.gca().add_patch(rect)\n",
    "\n",
    "\n",
    "    return bisection_angles[1:]"
   ]
  },
  {
   "cell_type": "code",
   "execution_count": 54,
   "metadata": {},
   "outputs": [
    {
     "data": {
      "image/png": "[encoded data removed]",
      "text/plain": [
       "<Figure size 144x144 with 1 Axes>"
      ]
     },
     "metadata": {
      "needs_background": "light"
     },
     "output_type": "display_data"
    },
    {
     "data": {
      "image/png": "[encoded data removed]",
      "text/plain": [
       "<Figure size 144x144 with 1 Axes>"
      ]
     },
     "metadata": {
      "needs_background": "light"
     },
     "output_type": "display_data"
    },
    {
     "data": {
      "image/png": "[encoded data removed]",
      "text/plain": [
       "<Figure size 144x144 with 1 Axes>"
      ]
     },
     "metadata": {
      "needs_background": "light"
     },
     "output_type": "display_data"
    },
    {
     "data": {
      "image/png": "[encoded data removed]",
      "text/plain": [
       "<Figure size 144x144 with 1 Axes>"
      ]
     },
     "metadata": {
      "needs_background": "light"
     },
     "output_type": "display_data"
    },
    {
     "data": {
      "image/png": "[encoded data removed]",
      "text/plain": [
       "<Figure size 144x144 with 1 Axes>"
      ]
     },
     "metadata": {
      "needs_background": "light"
     },
     "output_type": "display_data"
    },
    {
     "data": {
      "image/png": "[encoded data removed]",
      "text/plain": [
       "<Figure size 144x144 with 1 Axes>"
      ]
     },
     "metadata": {
      "needs_background": "light"
     },
     "output_type": "display_data"
    },
    {
     "data": {
      "image/png": "[encoded data removed]",
      "text/plain": [
       "<Figure size 144x144 with 1 Axes>"
      ]
     },
     "metadata": {
      "needs_background": "light"
     },
     "output_type": "display_data"
    },
    {
     "data": {
      "image/png": "[encoded data removed]",
      "text/plain": [
       "<Figure size 144x144 with 1 Axes>"
      ]
     },
     "metadata": {
      "needs_background": "light"
     },
     "output_type": "display_data"
    },
    {
     "data": {
      "image/png": "[encoded data removed]",
      "text/plain": [
       "<Figure size 144x144 with 1 Axes>"
      ]
     },
     "metadata": {
      "needs_background": "light"
     },
     "output_type": "display_data"
    },
    {
     "data": {
      "image/png": "[encoded data removed]",
      "text/plain": [
       "<Figure size 144x144 with 1 Axes>"
      ]
     },
     "metadata": {
      "needs_background": "light"
     },
     "output_type": "display_data"
    }
   ],
   "source": [
    "\n",
    "# Runner color\n",
    "colors = ['red',\n",
    "          'green']\n",
    "\n",
    "# Runner anchor positions\n",
    "anchors = [(10, 90),\n",
    "           (90, 90)]\n",
    "\n",
    "# Length of runners\n",
    "lens = [40,\n",
    "        40]\n",
    "\n",
    "# Starting angles (could all be 0)\n",
    "angles = [0,\n",
    "          180]\n",
    "\n",
    "\n",
    "iterations = 10\n",
    "\n",
    "\n",
    "colors = np.array(colors)\n",
    "anchors = np.array(anchors)\n",
    "lens = np.array(lens)\n",
    "angles = np.array(angles)\n",
    "\n",
    "\n",
    "for i in range(iterations):    \n",
    "\n",
    "    # Draw scene and get rope bisection angles\n",
    "    bisections = render_scene(anchors, lens, angles, colors, True)\n",
    "\n",
    "    # Move each runner halfway to the bisection angle\n",
    "    next_angles = []\n",
    "    for i in range(len(angles)):\n",
    "        next_angles.append(bisecting_angle(angles[i], bisections[i]))\n",
    "    angles = next_angles\n",
    "    \n",
    "    # If any two runners are crossed, move them to their fully-extended point\n",
    "    uncross_adjacent_runners(anchors, lens, angles)\n",
    "\n",
    "    plt.show()\n",
    "\n",
    "\n"
   ]
  },
  {
   "cell_type": "code",
   "execution_count": null,
   "metadata": {},
   "outputs": [],
   "source": []
  }
 ],
 "metadata": {
  "kernelspec": {
   "display_name": "bcov_python",
   "language": "python",
   "name": "bcov_python"
  },
  "language_info": {
   "codemirror_mode": {
    "name": "ipython",
    "version": 3
   },
   "file_extension": ".py",
   "mimetype": "text/x-python",
   "name": "python",
   "nbconvert_exporter": "python",
   "pygments_lexer": "ipython3",
   "version": "3.6.10"
  }
 },
 "nbformat": 4,
 "nbformat_minor": 4
}
